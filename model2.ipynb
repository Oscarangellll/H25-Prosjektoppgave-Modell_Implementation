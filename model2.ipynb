{
 "cells": [
  {
   "cell_type": "markdown",
   "id": "128836b1",
   "metadata": {},
   "source": [
    "# Imports"
   ]
  },
  {
   "cell_type": "code",
   "execution_count": 1,
   "id": "159a7365",
   "metadata": {},
   "outputs": [],
   "source": [
    "import gurobipy as gp\n",
    "from gurobipy import GRB\n",
    "import random"
   ]
  },
  {
   "cell_type": "markdown",
   "id": "c8cbbee7",
   "metadata": {},
   "source": [
    "## Create Model"
   ]
  },
  {
   "cell_type": "code",
   "execution_count": 2,
   "id": "2e4674ff",
   "metadata": {},
   "outputs": [
    {
     "name": "stdout",
     "output_type": "stream",
     "text": [
      "Set parameter Username\n",
      "Academic license - for non-commercial use only - expires 2026-08-29\n"
     ]
    }
   ],
   "source": [
    "model = gp.Model(\"Two-Stage Stochastic Programming Model for Vessel chartering strategies for Offshore Wind Farms\")"
   ]
  },
  {
   "cell_type": "markdown",
   "id": "bd3e9936",
   "metadata": {},
   "source": [
    "# First-Stage Model"
   ]
  },
  {
   "cell_type": "code",
   "execution_count": 3,
   "id": "57276373",
   "metadata": {},
   "outputs": [],
   "source": [
    "# Sets\n",
    "V = [\"Crew Transfer Vessel\", \"Service Operation Vessel\"]\n",
    "T = [\n",
    "    \"January\"\n",
    "    #\"February\", \"March\", \"April\", \"May\", \"June\", \"July\", \"August\", \"September\", \"October\", \"November\", \"December\"\n",
    "]\n",
    "\n",
    "# Parameters\n",
    "C_ST = {(v, t): 50 if v == \"Crew Transfer Vessel\" else 150 for v in V for t in T}\n",
    "\n",
    "C_LT = {\n",
    "    \"Crew Transfer Vessel\": 500,\n",
    "    \"Service Operation Vessel\": 2_800,\n",
    "}\n",
    "\n",
    "# Variables\n",
    "gamma_ST = model.addVars(V, T, vtype=GRB.INTEGER, name=\"gamma_ST\")\n",
    "gamma_LT = model.addVars(V, vtype=GRB.INTEGER, name=\"gamma_LT\")"
   ]
  },
  {
   "cell_type": "markdown",
   "id": "37816447",
   "metadata": {},
   "source": [
    "# Second-Stage Model"
   ]
  },
  {
   "cell_type": "markdown",
   "id": "52689cec",
   "metadata": {},
   "source": [
    "## Second-Stage Sets, Parameters and Variables"
   ]
  },
  {
   "cell_type": "code",
   "execution_count": 4,
   "id": "5c035241",
   "metadata": {},
   "outputs": [
    {
     "name": "stdout",
     "output_type": "stream",
     "text": [
      "{('Small Maintenance', 'Wind Farm A', 0, 0): 1, ('Small Maintenance', 'Wind Farm A', 1, 0): 7, ('Small Maintenance', 'Wind Farm A', 2, 0): 6, ('Small Maintenance', 'Wind Farm A', 3, 0): 6, ('Small Maintenance', 'Wind Farm A', 4, 0): 2, ('Small Maintenance', 'Wind Farm A', 5, 0): 6, ('Small Maintenance', 'Wind Farm A', 6, 0): 6, ('Small Maintenance', 'Wind Farm A', 7, 0): 2, ('Small Maintenance', 'Wind Farm A', 8, 0): 4, ('Small Maintenance', 'Wind Farm A', 9, 0): 6, ('Small Maintenance', 'Wind Farm A', 10, 0): 10, ('Small Maintenance', 'Wind Farm A', 11, 0): 5, ('Small Maintenance', 'Wind Farm A', 12, 0): 2, ('Small Maintenance', 'Wind Farm A', 13, 0): 5, ('Small Maintenance', 'Wind Farm A', 14, 0): 5, ('Small Maintenance', 'Wind Farm A', 15, 0): 9, ('Small Maintenance', 'Wind Farm A', 16, 0): 4, ('Small Maintenance', 'Wind Farm A', 17, 0): 2, ('Small Maintenance', 'Wind Farm A', 18, 0): 6, ('Small Maintenance', 'Wind Farm A', 19, 0): 8, ('Small Maintenance', 'Wind Farm A', 20, 0): 0, ('Small Maintenance', 'Wind Farm A', 21, 0): 9, ('Small Maintenance', 'Wind Farm A', 22, 0): 6, ('Small Maintenance', 'Wind Farm A', 23, 0): 2, ('Small Maintenance', 'Wind Farm A', 24, 0): 2, ('Small Maintenance', 'Wind Farm A', 25, 0): 9, ('Small Maintenance', 'Wind Farm A', 26, 0): 10, ('Small Maintenance', 'Wind Farm A', 27, 0): 6, ('Small Maintenance', 'Wind Farm A', 28, 0): 0, ('Small Maintenance', 'Wind Farm A', 29, 0): 8, ('Small Maintenance', 'Wind Farm B', 0, 0): 8, ('Small Maintenance', 'Wind Farm B', 1, 0): 8, ('Small Maintenance', 'Wind Farm B', 2, 0): 7, ('Small Maintenance', 'Wind Farm B', 3, 0): 8, ('Small Maintenance', 'Wind Farm B', 4, 0): 1, ('Small Maintenance', 'Wind Farm B', 5, 0): 0, ('Small Maintenance', 'Wind Farm B', 6, 0): 9, ('Small Maintenance', 'Wind Farm B', 7, 0): 4, ('Small Maintenance', 'Wind Farm B', 8, 0): 6, ('Small Maintenance', 'Wind Farm B', 9, 0): 6, ('Small Maintenance', 'Wind Farm B', 10, 0): 7, ('Small Maintenance', 'Wind Farm B', 11, 0): 9, ('Small Maintenance', 'Wind Farm B', 12, 0): 8, ('Small Maintenance', 'Wind Farm B', 13, 0): 7, ('Small Maintenance', 'Wind Farm B', 14, 0): 6, ('Small Maintenance', 'Wind Farm B', 15, 0): 2, ('Small Maintenance', 'Wind Farm B', 16, 0): 3, ('Small Maintenance', 'Wind Farm B', 17, 0): 2, ('Small Maintenance', 'Wind Farm B', 18, 0): 2, ('Small Maintenance', 'Wind Farm B', 19, 0): 5, ('Small Maintenance', 'Wind Farm B', 20, 0): 10, ('Small Maintenance', 'Wind Farm B', 21, 0): 4, ('Small Maintenance', 'Wind Farm B', 22, 0): 7, ('Small Maintenance', 'Wind Farm B', 23, 0): 0, ('Small Maintenance', 'Wind Farm B', 24, 0): 1, ('Small Maintenance', 'Wind Farm B', 25, 0): 5, ('Small Maintenance', 'Wind Farm B', 26, 0): 8, ('Small Maintenance', 'Wind Farm B', 27, 0): 2, ('Small Maintenance', 'Wind Farm B', 28, 0): 8, ('Small Maintenance', 'Wind Farm B', 29, 0): 2, ('Large Maintenance', 'Wind Farm A', 0, 0): 0, ('Large Maintenance', 'Wind Farm A', 1, 0): 1, ('Large Maintenance', 'Wind Farm A', 2, 0): 0, ('Large Maintenance', 'Wind Farm A', 3, 0): 0, ('Large Maintenance', 'Wind Farm A', 4, 0): 2, ('Large Maintenance', 'Wind Farm A', 5, 0): 2, ('Large Maintenance', 'Wind Farm A', 6, 0): 0, ('Large Maintenance', 'Wind Farm A', 7, 0): 0, ('Large Maintenance', 'Wind Farm A', 8, 0): 1, ('Large Maintenance', 'Wind Farm A', 9, 0): 0, ('Large Maintenance', 'Wind Farm A', 10, 0): 2, ('Large Maintenance', 'Wind Farm A', 11, 0): 1, ('Large Maintenance', 'Wind Farm A', 12, 0): 0, ('Large Maintenance', 'Wind Farm A', 13, 0): 1, ('Large Maintenance', 'Wind Farm A', 14, 0): 1, ('Large Maintenance', 'Wind Farm A', 15, 0): 0, ('Large Maintenance', 'Wind Farm A', 16, 0): 2, ('Large Maintenance', 'Wind Farm A', 17, 0): 1, ('Large Maintenance', 'Wind Farm A', 18, 0): 1, ('Large Maintenance', 'Wind Farm A', 19, 0): 2, ('Large Maintenance', 'Wind Farm A', 20, 0): 0, ('Large Maintenance', 'Wind Farm A', 21, 0): 1, ('Large Maintenance', 'Wind Farm A', 22, 0): 2, ('Large Maintenance', 'Wind Farm A', 23, 0): 1, ('Large Maintenance', 'Wind Farm A', 24, 0): 2, ('Large Maintenance', 'Wind Farm A', 25, 0): 1, ('Large Maintenance', 'Wind Farm A', 26, 0): 2, ('Large Maintenance', 'Wind Farm A', 27, 0): 2, ('Large Maintenance', 'Wind Farm A', 28, 0): 2, ('Large Maintenance', 'Wind Farm A', 29, 0): 0, ('Large Maintenance', 'Wind Farm B', 0, 0): 1, ('Large Maintenance', 'Wind Farm B', 1, 0): 1, ('Large Maintenance', 'Wind Farm B', 2, 0): 2, ('Large Maintenance', 'Wind Farm B', 3, 0): 0, ('Large Maintenance', 'Wind Farm B', 4, 0): 2, ('Large Maintenance', 'Wind Farm B', 5, 0): 1, ('Large Maintenance', 'Wind Farm B', 6, 0): 1, ('Large Maintenance', 'Wind Farm B', 7, 0): 1, ('Large Maintenance', 'Wind Farm B', 8, 0): 0, ('Large Maintenance', 'Wind Farm B', 9, 0): 0, ('Large Maintenance', 'Wind Farm B', 10, 0): 1, ('Large Maintenance', 'Wind Farm B', 11, 0): 0, ('Large Maintenance', 'Wind Farm B', 12, 0): 1, ('Large Maintenance', 'Wind Farm B', 13, 0): 0, ('Large Maintenance', 'Wind Farm B', 14, 0): 2, ('Large Maintenance', 'Wind Farm B', 15, 0): 2, ('Large Maintenance', 'Wind Farm B', 16, 0): 2, ('Large Maintenance', 'Wind Farm B', 17, 0): 1, ('Large Maintenance', 'Wind Farm B', 18, 0): 0, ('Large Maintenance', 'Wind Farm B', 19, 0): 0, ('Large Maintenance', 'Wind Farm B', 20, 0): 1, ('Large Maintenance', 'Wind Farm B', 21, 0): 2, ('Large Maintenance', 'Wind Farm B', 22, 0): 1, ('Large Maintenance', 'Wind Farm B', 23, 0): 2, ('Large Maintenance', 'Wind Farm B', 24, 0): 1, ('Large Maintenance', 'Wind Farm B', 25, 0): 2, ('Large Maintenance', 'Wind Farm B', 26, 0): 2, ('Large Maintenance', 'Wind Farm B', 27, 0): 0, ('Large Maintenance', 'Wind Farm B', 28, 0): 0, ('Large Maintenance', 'Wind Farm B', 29, 0): 2}\n"
     ]
    }
   ],
   "source": [
    "random.seed(18)\n",
    "\n",
    "# Sets\n",
    "W = [\"Wind Farm A\", \"Wind Farm B\"]\n",
    "M = [\"Small Maintenance\", \"Large Maintenance\"]\n",
    "K_v = {\n",
    "    \"Crew Transfer Vessel\": [0],\n",
    "    \"Service Operation Vessel\": [0, 1, 2]\n",
    "}\n",
    "D = [d for d in range(len(T) * 30)]\n",
    "D_t = {month: D[i * 30 : (i + 1) * 30] for i, month in enumerate(T)}\n",
    "\n",
    "S = range(1) # scenarios\n",
    "\n",
    "# Parameters\n",
    "\n",
    "P_mk = { \n",
    "    \"Small Maintenance\": [4, 2, 0],\n",
    "    \"Large Maintenance\": [0, 1, 2]\n",
    "}\n",
    "L_k = {\n",
    "    0: 4,\n",
    "    1: 5,\n",
    "    2: 4\n",
    "}\n",
    "L_vw = {\n",
    "    (\"Crew Transfer Vessel\", \"Wind Farm A\"): 2,\n",
    "    (\"Crew Transfer Vessel\", \"Wind Farm B\"): 3,\n",
    "    (\"Service Operation Vessel\", \"Wind Farm A\"): 4,\n",
    "    (\"Service Operation Vessel\", \"Wind Farm B\"): 5\n",
    "}\n",
    "\n",
    "# Terskel for minimum værvindu (f.eks. 3 timer)\n",
    "min_window = 5\n",
    "\n",
    "#duration (in hours) of longest weather window in scenario s on day d, 0 if too short\n",
    "A_vwd_s = {} # (v, w, d, s) -> duration of longest weather window in hours\n",
    "\n",
    "for v in V:\n",
    "    for w in W:\n",
    "        for d in D:\n",
    "            for s in S:\n",
    "                duration = random.randint(0, 12)  # Simulerer værvindu mellom 0 og 12 timer\n",
    "                A_vwd_s[(v, w, d, s)] = duration if duration >= min_window else 0\n",
    "\n",
    "\n",
    "N_v = {\n",
    "    \"Crew Transfer Vessel\": 2,\n",
    "    \"Service Operation Vessel\": 14\n",
    "}\n",
    "\n",
    "\"\"\"\n",
    "C_U = {\n",
    "    (\"Crew Transfer Vessel\", \"Wind Farm A\"): 1,\n",
    "    (\"Crew Transfer Vessel\", \"Wind Farm B\"): 1,\n",
    "    (\"Service Operation Vessel\", \"Wind Farm A\"): 2,\n",
    "    (\"Service Operation Vessel\", \"Wind Farm B\"): 3\n",
    "}\n",
    "\"\"\"\n",
    "\n",
    "B_mw_0 = 0\n",
    "# number of failures of maintenance tasks of category m that occurs at wind farm w in scenario s on day d\n",
    "F_mwd_s = {}\n",
    "\n",
    "for m in M:\n",
    "    for w in W:\n",
    "        for d in D:\n",
    "            for s in S:\n",
    "                if m == \"Small Maintenance\":\n",
    "                    F_mwd_s[(m, w, d, s)] = random.randint(0, 10)  # Simulerer 0-2 små vedlikeholdsoppgaver\n",
    "                else:\n",
    "                    F_mwd_s[(m, w, d, s)] = random.randint(0, 2)  # Simulerer 0-1 store vedlikeholdsoppgaver\n",
    "\n",
    "print(F_mwd_s)\n",
    "# Variables\n",
    "x = model.addVars(V, W, D, S, vtype=GRB.INTEGER, name=\"x\")\n",
    "l = model.addVars(\n",
    "    ((v, w, d, k, s) \n",
    "    for v in V\n",
    "    for w in W\n",
    "    for d in D\n",
    "    for k in K_v[v]\n",
    "    for s in S),\n",
    "    vtype=GRB.INTEGER, \n",
    "    name=\"lambda\"\n",
    ")\n",
    "z = model.addVars(W, M, D, S,  vtype=GRB.INTEGER, name=\"z\")\n",
    "b = model.addVars(W, M, D, S, vtype=GRB.INTEGER, name=\"b\")\n",
    "\n",
    "C_D = {key: 8 for key in b.keys()}\n",
    "C_U = {key: 2 for key in x.keys()}"
   ]
  },
  {
   "cell_type": "markdown",
   "id": "269429b6-d590-4831-b070-070265845fe0",
   "metadata": {},
   "source": [
    "## Objective Function"
   ]
  },
  {
   "cell_type": "code",
   "execution_count": 5,
   "id": "8e8429af-42e8-4887-9b2f-6fa8a0415f91",
   "metadata": {},
   "outputs": [],
   "source": [
    "first_stage_obj = gamma_ST.prod(C_ST) + gamma_LT.prod(C_LT)\n",
    "\n",
    "expected_second_stage_obj = (1 / len(S)) * (b.prod(C_D) + x.prod(C_U))\n",
    "\n",
    "model.setObjective(first_stage_obj + expected_second_stage_obj)"
   ]
  },
  {
   "cell_type": "markdown",
   "id": "649eacb4",
   "metadata": {},
   "source": [
    "## Second-Stage Constraints"
   ]
  },
  {
   "cell_type": "code",
   "execution_count": 6,
   "id": "26e2a55d",
   "metadata": {},
   "outputs": [
    {
     "name": "stdout",
     "output_type": "stream",
     "text": [
      "Gurobi Optimizer version 12.0.3 build v12.0.3rc0 (mac64[arm] - Darwin 25.0.0 25A362)\n",
      "\n",
      "CPU model: Apple M1\n",
      "Thread count: 8 physical cores, 8 logical processors, using up to 8 threads\n",
      "\n",
      "Optimize a model with 660 rows, 604 columns and 1594 nonzeros\n",
      "Model fingerprint: 0xecd12b9b\n",
      "Variable types: 0 continuous, 604 integer (0 binary)\n",
      "Coefficient statistics:\n",
      "  Matrix range     [1e+00, 1e+01]\n",
      "  Objective range  [2e+00, 3e+03]\n",
      "  Bounds range     [0e+00, 0e+00]\n",
      "  RHS range        [1e+00, 1e+01]\n",
      "Found heuristic solution: objective 34310.000000\n",
      "Presolve removed 478 rows and 371 columns\n",
      "Presolve time: 0.00s\n",
      "Presolved: 182 rows, 233 columns, 524 nonzeros\n",
      "Found heuristic solution: objective 23010.000000\n",
      "Variable types: 0 continuous, 233 integer (3 binary)\n",
      "\n",
      "Root relaxation: objective 1.966695e+03, 111 iterations, 0.00 seconds (0.00 work units)\n",
      "\n",
      "    Nodes    |    Current Node    |     Objective Bounds      |     Work\n",
      " Expl Unexpl |  Obj  Depth IntInf | Incumbent    BestBd   Gap | It/Node Time\n",
      "\n",
      "     0     0 1966.69536    0   57 23010.0000 1966.69536  91.5%     -    0s\n",
      "H    0     0                    4230.0000000 1966.69536  53.5%     -    0s\n",
      "H    0     0                    4226.0000000 1966.69536  53.5%     -    0s\n",
      "H    0     0                    2478.0000000 1966.69536  20.6%     -    0s\n",
      "H    0     0                    2280.0000000 1966.69536  13.7%     -    0s\n",
      "H    0     0                    2232.0000000 1966.69536  11.9%     -    0s\n",
      "H    0     0                    2198.0000000 1966.69536  10.5%     -    0s\n",
      "     0     0 2087.16471    0   13 2198.00000 2087.16471  5.04%     -    0s\n",
      "     0     0 2087.16471    0   13 2198.00000 2087.16471  5.04%     -    0s\n",
      "H    0     0                    2162.0000000 2109.40000  2.43%     -    0s\n",
      "H    0     0                    2138.0000000 2109.40000  1.34%     -    0s\n",
      "H    0     0                    2130.0000000 2109.40000  0.97%     -    0s\n",
      "     0     0 2109.40000    0   13 2130.00000 2109.40000  0.97%     -    0s\n",
      "     0     0     cutoff    0      2130.00000 2130.00000  0.00%     -    0s\n",
      "\n",
      "Cutting planes:\n",
      "  Gomory: 14\n",
      "  Cover: 1\n",
      "  Implied bound: 4\n",
      "  MIR: 47\n",
      "  StrongCG: 3\n",
      "  Zero half: 1\n",
      "\n",
      "Explored 1 nodes (182 simplex iterations) in 0.04 seconds (0.01 work units)\n",
      "Thread count was 8 (of 8 available processors)\n",
      "\n",
      "Solution count 10: 2130 2138 2162 ... 23010\n",
      "\n",
      "Optimal solution found (tolerance 1.00e-04)\n",
      "Best objective 2.130000000000e+03, best bound 2.130000000000e+03, gap 0.0000%\n",
      "Short-term charter 2.0 vessels of type Crew Transfer Vessel in month January\n",
      "Short-term charter 1.0 vessels of type Service Operation Vessel in month January\n"
     ]
    }
   ],
   "source": [
    "# The number of vessels allocated in the second stage cannot \n",
    "# exceed the number of vessels chartered in the first stage\n",
    "model.addConstrs(\n",
    "    (x.sum(v, '*', d, s) <= gamma_ST[v, t] + gamma_LT[v] \n",
    "    for v in V \n",
    "    for t in T \n",
    "    for d in D_t[t] \n",
    "    for s in S),\n",
    "    name=\"vessels_available\"\n",
    ")\n",
    "\n",
    "model.addConstrs(\n",
    "    l.sum(v, w, d, '*', s) <= N_v[v] * x[v, w, d, s]\n",
    "    for v in V\n",
    "    for w in W\n",
    "    for d in D\n",
    "    for s in S\n",
    ")\n",
    "\n",
    "model.addConstrs(\n",
    "    (L_k[k] + L_vw[v, w] - A_vwd_s[v,w,d,s])*l[v,w,d,k,s] <=0\n",
    "    for v in V\n",
    "    for w in W\n",
    "    for d in D\n",
    "    for k in K_v[v]\n",
    "    for s in S\n",
    ")\n",
    "\n",
    "#connect maintenance tasks performed to patterns chosen (9)\n",
    "for w in W:\n",
    "    for m in M:\n",
    "        for d in D:\n",
    "            for s in S:\n",
    "                model.addConstr(\n",
    "                    z[w, m, d, s] <= gp.quicksum(P_mk[m][k] * l[v, w, d, k, s] for v in V for k in K_v[v]),\n",
    "                    name=f\"Maintenance_Task_Completion_m{m}_w{w}_d{d}_s{s}\"\n",
    "                )\n",
    "\n",
    "model.addConstrs(\n",
    "    b[w,m,0,s] == B_mw_0 \n",
    "    for w in W \n",
    "    for m in M \n",
    "    for s in S\n",
    ")\n",
    "\n",
    "model.addConstrs(\n",
    "    b[w,m,d,s] == b[w,m,d-1,s] + F_mwd_s[m,w,d,s] - z[w,m,d,s]\n",
    "    for w in W\n",
    "    for m in M\n",
    "    for d in D[1:]\n",
    "    for s in S\n",
    ")\n",
    "model.optimize()\n",
    "\n",
    "for v in V:\n",
    "    for t in T:\n",
    "        if gamma_ST[v, t].X > 0:\n",
    "            print(f\"Short-term charter {gamma_ST[v, t].X} vessels of type {v} in month {t}\")\n",
    "for v in V:\n",
    "    if gamma_LT[v].X > 0:\n",
    "        print(f\"Long-term charter {gamma_LT[v].X} vessels of type {v}\")\n"
   ]
  },
  {
   "cell_type": "code",
   "execution_count": null,
   "id": "6e5b6ff0-3eef-48bd-a44a-f3b3c37a8647",
   "metadata": {},
   "outputs": [],
   "source": []
  },
  {
   "cell_type": "code",
   "execution_count": null,
   "id": "e28941e2-088c-48f4-bd8e-0082ba7037ec",
   "metadata": {},
   "outputs": [],
   "source": []
  }
 ],
 "metadata": {
  "kernelspec": {
   "display_name": "Python 3 (ipykernel)",
   "language": "python",
   "name": "python3"
  },
  "language_info": {
   "codemirror_mode": {
    "name": "ipython",
    "version": 3
   },
   "file_extension": ".py",
   "mimetype": "text/x-python",
   "name": "python",
   "nbconvert_exporter": "python",
   "pygments_lexer": "ipython3",
   "version": "3.13.7"
  }
 },
 "nbformat": 4,
 "nbformat_minor": 5
}
