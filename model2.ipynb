{
 "cells": [
  {
   "cell_type": "markdown",
   "id": "bd3e9936",
   "metadata": {},
   "source": [
    "Dette er en ipynb"
   ]
  },
  {
   "cell_type": "code",
   "execution_count": null,
   "id": "57276373",
   "metadata": {},
   "outputs": [],
   "source": [
    "def add_numbers(a, b):\n",
    "    return a + b"
   ]
  }
 ],
 "metadata": {
  "kernelspec": {
   "display_name": "Python 3",
   "language": "python",
   "name": "python3"
  },
  "language_info": {
   "name": "python",
   "version": "3.11.9"
  }
 },
 "nbformat": 4,
 "nbformat_minor": 5
}
