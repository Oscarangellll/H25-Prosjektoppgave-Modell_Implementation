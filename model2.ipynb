{
 "cells": [
  {
   "cell_type": "markdown",
   "id": "128836b1",
   "metadata": {},
   "source": [
    "# Imports"
   ]
  },
  {
   "cell_type": "code",
   "execution_count": 31,
   "id": "159a7365",
   "metadata": {},
   "outputs": [],
   "source": [
    "import gurobipy as gp\n",
    "from gurobipy import GRB\n",
    "import numpy as np"
   ]
  },
  {
   "cell_type": "markdown",
   "id": "c8cbbee7",
   "metadata": {},
   "source": [
    "## Create Model"
   ]
  },
  {
   "cell_type": "code",
   "execution_count": 32,
   "id": "2e4674ff",
   "metadata": {},
   "outputs": [],
   "source": [
    "model = gp.Model(\"Two-Stage Stochastic Programming Model for Vessel chartering strategies for Offshore Wind Farms\")"
   ]
  },
  {
   "cell_type": "markdown",
   "id": "bd3e9936",
   "metadata": {},
   "source": [
    "# First-Stage Model"
   ]
  },
  {
   "cell_type": "markdown",
   "id": "19da8dd2",
   "metadata": {},
   "source": [
    "## First-Stage Sets and Indices"
   ]
  },
  {
   "cell_type": "code",
   "execution_count": 33,
   "id": "57276373",
   "metadata": {},
   "outputs": [],
   "source": [
    "V = {\n",
    "    0: 'Crew Transfer Vessel',\n",
    "    1: 'Service Operation Vessel',\n",
    "}\n",
    "\n",
    "T = {\n",
    "    0: 'January',\n",
    "    1: 'February',\n",
    "    # 2: 'March',\n",
    "    # 3: 'April',\n",
    "    # 4: 'May',\n",
    "    # 5: 'June',\n",
    "    # 6: 'July',\n",
    "    # 7: 'August',\n",
    "    # 8: 'September',\n",
    "    # 9: 'October',\n",
    "    # 10: 'November',\n",
    "    # 11: 'December'\n",
    "}"
   ]
  },
  {
   "cell_type": "markdown",
   "id": "a4f2f4b0",
   "metadata": {},
   "source": [
    "## First-Stage Parameters"
   ]
  },
  {
   "cell_type": "code",
   "execution_count": 34,
   "id": "b078beac",
   "metadata": {},
   "outputs": [],
   "source": [
    "C_ST = {\n",
    "    0: 50,  # Cost per month for short-term chartering of Crew Transfer Vessel\n",
    "    1: 200,  # Cost per month for short-term chartering of Service Operation Vessel\n",
    "}\n",
    "\n",
    "C_LT = {\n",
    "    0: 400,  # Cost for long-term chartering of Crew Transfer Vessel\n",
    "    1: 2000,  # Cost for long-term chartering of Service Operation Vessel\n",
    "}"
   ]
  },
  {
   "cell_type": "markdown",
   "id": "2c803390",
   "metadata": {},
   "source": [
    "## First-Stage Decision Variables"
   ]
  },
  {
   "cell_type": "code",
   "execution_count": 35,
   "id": "3ca8e4bc",
   "metadata": {},
   "outputs": [],
   "source": [
    "gamma_ST = model.addVars(V, T, vtype=GRB.INTEGER, name=\"gamma_ST\")  # Number of short-term chartered vessels of type v in month t\n",
    "gamma_LT = model.addVars(V, vtype=GRB.INTEGER, name=\"gamma_LT\")  # Number of long-term chartered vessels of type v"
   ]
  },
  {
   "cell_type": "markdown",
   "id": "2df590a5",
   "metadata": {},
   "source": [
    "## First-Stage Objective Function"
   ]
  },
  {
   "cell_type": "code",
   "execution_count": 36,
   "id": "bce2d0a2",
   "metadata": {},
   "outputs": [],
   "source": [
    "model.setObjective(\n",
    "    gp.quicksum(C_ST[v] * gamma_ST[v, t] for v in V for t in T) +\n",
    "    gp.quicksum(C_LT[v] * gamma_LT[v] for v in V),\n",
    "    GRB.MINIMIZE\n",
    ")"
   ]
  },
  {
   "cell_type": "markdown",
   "id": "f97bd7bc",
   "metadata": {},
   "source": [
    "## First-Stage Constraints"
   ]
  },
  {
   "cell_type": "code",
   "execution_count": null,
   "id": "f4794b2f",
   "metadata": {},
   "outputs": [],
   "source": []
  },
  {
   "cell_type": "markdown",
   "id": "37816447",
   "metadata": {},
   "source": [
    "# Second-Stage Model"
   ]
  },
  {
   "cell_type": "markdown",
   "id": "52689cec",
   "metadata": {},
   "source": [
    "## Second-Stage Sets and Indices"
   ]
  },
  {
   "cell_type": "code",
   "execution_count": 37,
   "id": "5c035241",
   "metadata": {},
   "outputs": [
    {
     "name": "stdout",
     "output_type": "stream",
     "text": [
      "[0, 1, 2, 3, 4, 5, 6, 7, 8, 9]\n"
     ]
    }
   ],
   "source": [
    "#set of wind farms\n",
    "W = {\n",
    "    0: 'Wind Farm A',\n",
    "    1: 'Wind Farm B',\n",
    "}\n",
    "\n",
    "#set of maintenance task categories\n",
    "M = {\n",
    "    0: 'Small Maintenance',\n",
    "    1: 'Large Maintenance',\n",
    "}\n",
    "\n",
    "#set of maintenance patterns vessel v can perform\n",
    "K_v = {\n",
    "    0: [0],\n",
    "    1: [0, 1, 2],\n",
    "}\n",
    "\n",
    "#set of days within each month t\n",
    "D_t = {t: [d for d in range(t * 5, (t + 1) * 5)] for t in T}\n",
    "\n",
    "#set of days in the planning horizon\n",
    "D = [d for t in T for d in D_t[t]]\n",
    "print(D)"
   ]
  },
  {
   "cell_type": "markdown",
   "id": "649eacb4",
   "metadata": {},
   "source": [
    "## Second-Stage Parameters"
   ]
  },
  {
   "cell_type": "code",
   "execution_count": null,
   "id": "26e2a55d",
   "metadata": {},
   "outputs": [],
   "source": [
    "#set of scenarios\n",
    "S = {\n",
    "    0: 'Scenario 1',\n",
    "    1: 'Scenario 2',\n",
    "}\n",
    "\n",
    "#number of maintenance tasks of category m that a team performs in pattern k\n",
    "P_mk = {\n",
    "    0: [4, 0],\n",
    "    1: [2, 1],\n",
    "    2: [0, 2],\n",
    "}\n",
    "\n",
    "#time (in hours) to perform maintenance pattern k\n",
    "L_k = {\n",
    "    0: 4,\n",
    "    1: 5,\n",
    "    2: 4,\n",
    "}\n",
    "\n",
    "#time (in hours) to travel to wind farm w and back (round trip time)\n",
    "Q_w = {\n",
    "    0: 2,\n",
    "    #1: 4,\n",
    "}\n",
    "\n",
    "#duration (in hours) of longest weather window in scenario s on day d, 0 if too short\n",
    "import random\n",
    "\n",
    "# Terskel for minimum værvindu (f.eks. 3 timer)\n",
    "min_window = 5\n",
    "\n",
    "#duration (in hours) of longest weather window in scenario s on day d, 0 if too short\n",
    "A_vwd_s = {} # (v, w, d, s) -> duration of longest weather window in hours\n",
    "\n",
    "for v in V:\n",
    "    for w in W:\n",
    "        for d in D:\n",
    "            for s in S:\n",
    "                duration = random.randint(0, 12)  # Simulerer værvindu mellom 0 og 12 timer\n",
    "                A_vwd_s[(v, w, d, s)] = duration if duration >= min_window else 0\n",
    "\n",
    "# number of teams available of vessel type v\n",
    "N_v = {\n",
    "    0: 3,\n",
    "    1: 5,\n",
    "}\n",
    "\n",
    "# downtime cost per day for each untreated failure\n",
    "C_down = 5\n",
    "\n",
    "# cost per day of using vessel v in wind farm w \n",
    "C_usage_vw = {\n",
    "    (0, 0): 1, #(v, w)\n",
    "    (0, 1): 1,\n",
    "    (1, 0): 2,\n",
    "    (1, 1): 2.5,\n",
    "}\n",
    "\n",
    "# initial backlog of maintenance tasks of category m at wind farm w at the start of the planning horizon\n",
    "B_mw_0 = {\n",
    "    (0, 0): 0, #(m, w)\n",
    "    (0, 1): 0,\n",
    "    (1, 0): 0,\n",
    "    (1, 1): 0,\n",
    "}\n",
    "\n",
    "# number of failures of maintenance tasks of category m that occurs at wind farm w in scenario s on day d\n",
    "F_mwd_s = {}\n",
    "\n",
    "for m in M:\n",
    "    for w in W:\n",
    "        for d in D:\n",
    "            for s in S:\n",
    "                if m == 0:\n",
    "                    F_mwd_s[(m, w, d, s)] = random.randint(0, 3)  # Simulerer 0-2 små vedlikeholdsoppgaver\n",
    "                else:\n",
    "                    F_mwd_s[(m, w, d, s)] = random.randint(0, 1)  # Simulerer 0-1 store vedlikeholdsoppgaver"
   ]
  },
  {
   "cell_type": "markdown",
   "id": "c53af29d",
   "metadata": {},
   "source": [
    "## Second-Stage Decision Variables"
   ]
  },
  {
   "cell_type": "code",
   "execution_count": 48,
   "id": "54a9d66c",
   "metadata": {},
   "outputs": [],
   "source": [
    "#number of vessels of type v that are allocated to wind farm w in scenario s on day d\n",
    "x_vwd_s = model.addVars(V, W, D, S, vtype=GRB.INTEGER, name=\"X_vwd_s\")\n",
    "\n",
    "#number of times a maintenance pattern k is performed by vessel type v at wind farm w on day d in scenario s\n",
    "lambda_vwkd_s = {}\n",
    "\n",
    "for v in V:\n",
    "    for w in W:\n",
    "        for k in K_v[v]:  # K_v er en dict: K_v[vessel_type] = [mønstre]\n",
    "            for d in D:\n",
    "                for s in S:\n",
    "                    lambda_vwkd_s[(v, w, k, d, s)] = model.addVar(vtype=GRB.INTEGER, name=f\"Y_{v}_{w}_{k}_{d}_{s}\")\n",
    "\n",
    "#number of maintenance tasks of category m that is performed at wind farm w in scenario s on day d\n",
    "z_mwd_s = model.addVars(M, W, D, S, vtype=GRB.INTEGER, name=\"Y_mwd_s\")\n",
    "\n",
    "#number of maintenance tasks of category m that are backlogged at wind farm w in scenario s on day d\n",
    "b_mwd_s = model.addVars(M, W, D, S, vtype=GRB.INTEGER, name=\"B_mwd_s\")"
   ]
  },
  {
   "cell_type": "markdown",
   "id": "539428aa",
   "metadata": {},
   "source": [
    "## Second-Stage Objective Function"
   ]
  },
  {
   "cell_type": "code",
   "execution_count": 40,
   "id": "2f5b0184",
   "metadata": {},
   "outputs": [],
   "source": [
    "model.setObjective(\n",
    "    model.getObjective() +\n",
    "    gp.quicksum(\n",
    "        gp.quicksum(C_down * b_mwd_s[m, w, d, s] for m in M for w in W for d in D) +\n",
    "        gp.quicksum(C_usage_vw[v, w] * x_vwd_s[v, w, d, s] for v in V for w in W for d in D)\n",
    "        for s in S\n",
    "    ) / len(S),\n",
    "    GRB.MINIMIZE\n",
    ")"
   ]
  },
  {
   "cell_type": "markdown",
   "id": "adb655b8",
   "metadata": {},
   "source": [
    "## Second-Stage Constraints"
   ]
  },
  {
   "cell_type": "code",
   "execution_count": 52,
   "id": "8a3f7832",
   "metadata": {},
   "outputs": [],
   "source": [
    "#consistency between allocated vessels in second stage and vessels chartered in first stage (6)\n",
    "for v in V:\n",
    "    for t in T:\n",
    "        for d in D_t[t]:\n",
    "            for s in S:\n",
    "                model.addConstr(\n",
    "                    gp.quicksum(x_vwd_s[v, w, d, s] for w in W) <= gamma_ST[v, t] + gamma_LT[v],\n",
    "                    name=f\"Vessel_Allocation_Consistency_v{v}_t{t}_d{d}_s{s}\"\n",
    "                )\n",
    "                \n",
    "#consistency between maintenance patterns performed and available teams given the number of vessels allocated (7)\n",
    "for v in V:\n",
    "    for w in W:\n",
    "        for d in D:\n",
    "            for s in S:\n",
    "                model.addConstr(\n",
    "                    gp.quicksum(lambda_vwkd_s[v, w, k, d, s] for k in K_v[v]) <= N_v[v] * x_vwd_s[v, w, d, s],\n",
    "                    name=f\"Team_Availability_Consistency_v{v}_w{w}_d{d}_s{s}\"\n",
    "                )\n",
    "\n",
    "#ensure that patterns are not chosen if they cannot fit within the weather window (8)\n",
    "for v in V:\n",
    "    for w in W:\n",
    "        for k in K_v[v]:\n",
    "            for d in D:\n",
    "                for s in S:\n",
    "                    model.addConstr(\n",
    "                        (L_k[k] - A_vwd_s[v, w, d, s])*lambda_vwkd_s[v, w, k, d, s] <= 0,\n",
    "                        name=f\"Weather_Window_Constraint_v{v}_w{w}_k{k}_\"\n",
    "                    )\n",
    "                    \n",
    "#connect maintenance tasks performed to patterns chosen (9)\n",
    "for w in W:\n",
    "    for m in M:\n",
    "        for d in D:\n",
    "            for s in S:\n",
    "                model.addConstr(\n",
    "                    z_mwd_s[m, w, d, s] <= gp.quicksum(P_mk[k][m] * lambda_vwkd_s[v, w, k, d, s] for v in V for k in K_v[v]),\n",
    "                    name=f\"Maintenance_Task_Completion_m{m}_w{w}_d{d}_s{s}\"\n",
    "                )\n",
    "\n",
    "#initialize backlog at the start of the planning horizon (10)\n",
    "for w in W:\n",
    "    for m in M:\n",
    "        for s in S:\n",
    "            model.addConstr(\n",
    "                b_mwd_s[m, w, 0, s] == B_mw_0[m, w],\n",
    "                name=f\"Initial_Backlog_m{m}_w{w}_s{s}\"\n",
    "            )\n",
    "            \n",
    "#backlog balance (11)\n",
    "for w in W:\n",
    "    for m in M:\n",
    "        for d in D[1:]: # Start from the second day\n",
    "            for s in S:\n",
    "                model.addConstr(\n",
    "                    b_mwd_s[m, w, d, s] == b_mwd_s[m, w, d - 1, s] + F_mwd_s[m, w, d, s] - z_mwd_s[m, w, d, s],\n",
    "                    name=f\"Backlog_Balance_m{m}_w{w}_d{d}_s{s}\"\n",
    "                )"
   ]
  },
  {
   "cell_type": "markdown",
   "id": "9e8b696c",
   "metadata": {},
   "source": [
    "# Solving the model"
   ]
  },
  {
   "cell_type": "code",
   "execution_count": 53,
   "id": "3cdb539e",
   "metadata": {},
   "outputs": [
    {
     "name": "stdout",
     "output_type": "stream",
     "text": [
      "Gurobi Optimizer version 12.0.3 build v12.0.3rc0 (win64 - Windows 11.0 (26100.2))\n",
      "\n",
      "CPU model: AMD Ryzen 7 8845HS w/ Radeon 780M Graphics, instruction set [SSE2|AVX|AVX2|AVX512]\n",
      "Thread count: 8 physical cores, 16 logical processors, using up to 16 threads\n",
      "\n",
      "Optimize a model with 1240 rows, 1366 columns and 3021 nonzeros\n",
      "Model fingerprint: 0xc2d7b546\n",
      "Variable types: 0 continuous, 1366 integer (0 binary)\n",
      "Coefficient statistics:\n",
      "  Matrix range     [1e+00, 8e+00]\n",
      "  Objective range  [5e-01, 3e+00]\n",
      "  Bounds range     [0e+00, 0e+00]\n",
      "  RHS range        [1e+00, 3e+00]\n",
      "\n",
      "MIP start from previous solve produced solution with objective 0 (0.03s)\n",
      "Loaded MIP start from previous solve with objective 0\n",
      "\n",
      "\n",
      "Explored 0 nodes (0 simplex iterations) in 0.03 seconds (0.00 work units)\n",
      "Thread count was 1 (of 16 available processors)\n",
      "\n",
      "Solution count 1: 0 \n",
      "\n",
      "Optimal solution found (tolerance 1.00e-04)\n",
      "Best objective 0.000000000000e+00, best bound 0.000000000000e+00, gap 0.0000%\n",
      "Backlog 2.0 maintenance tasks of category Small Maintenance at wind farm Wind Farm A on day 2 in scenario Scenario 1\n",
      "Backlog 1.0 maintenance tasks of category Small Maintenance at wind farm Wind Farm A on day 2 in scenario Scenario 2\n",
      "Backlog 5.0 maintenance tasks of category Small Maintenance at wind farm Wind Farm A on day 3 in scenario Scenario 1\n",
      "Backlog 4.0 maintenance tasks of category Small Maintenance at wind farm Wind Farm A on day 3 in scenario Scenario 2\n",
      "Backlog 5.0 maintenance tasks of category Small Maintenance at wind farm Wind Farm A on day 4 in scenario Scenario 1\n",
      "Backlog 5.0 maintenance tasks of category Small Maintenance at wind farm Wind Farm A on day 4 in scenario Scenario 2\n",
      "Backlog 5.0 maintenance tasks of category Small Maintenance at wind farm Wind Farm A on day 5 in scenario Scenario 1\n",
      "Backlog 8.0 maintenance tasks of category Small Maintenance at wind farm Wind Farm A on day 5 in scenario Scenario 2\n",
      "Backlog 6.0 maintenance tasks of category Small Maintenance at wind farm Wind Farm A on day 6 in scenario Scenario 1\n",
      "Backlog 11.0 maintenance tasks of category Small Maintenance at wind farm Wind Farm A on day 6 in scenario Scenario 2\n",
      "Backlog 9.0 maintenance tasks of category Small Maintenance at wind farm Wind Farm A on day 7 in scenario Scenario 1\n",
      "Backlog 12.0 maintenance tasks of category Small Maintenance at wind farm Wind Farm A on day 7 in scenario Scenario 2\n",
      "Backlog 12.0 maintenance tasks of category Small Maintenance at wind farm Wind Farm A on day 8 in scenario Scenario 1\n",
      "Backlog 15.0 maintenance tasks of category Small Maintenance at wind farm Wind Farm A on day 8 in scenario Scenario 2\n",
      "Backlog 14.0 maintenance tasks of category Small Maintenance at wind farm Wind Farm A on day 9 in scenario Scenario 1\n",
      "Backlog 16.0 maintenance tasks of category Small Maintenance at wind farm Wind Farm A on day 9 in scenario Scenario 2\n",
      "Backlog 1.0 maintenance tasks of category Small Maintenance at wind farm Wind Farm B on day 1 in scenario Scenario 1\n",
      "Backlog 1.0 maintenance tasks of category Small Maintenance at wind farm Wind Farm B on day 1 in scenario Scenario 2\n",
      "Backlog 2.0 maintenance tasks of category Small Maintenance at wind farm Wind Farm B on day 2 in scenario Scenario 1\n",
      "Backlog 4.0 maintenance tasks of category Small Maintenance at wind farm Wind Farm B on day 2 in scenario Scenario 2\n",
      "Backlog 2.0 maintenance tasks of category Small Maintenance at wind farm Wind Farm B on day 3 in scenario Scenario 1\n",
      "Backlog 6.0 maintenance tasks of category Small Maintenance at wind farm Wind Farm B on day 3 in scenario Scenario 2\n",
      "Backlog 3.0 maintenance tasks of category Small Maintenance at wind farm Wind Farm B on day 4 in scenario Scenario 1\n",
      "Backlog 8.0 maintenance tasks of category Small Maintenance at wind farm Wind Farm B on day 4 in scenario Scenario 2\n",
      "Backlog 3.0 maintenance tasks of category Small Maintenance at wind farm Wind Farm B on day 5 in scenario Scenario 1\n",
      "Backlog 11.0 maintenance tasks of category Small Maintenance at wind farm Wind Farm B on day 5 in scenario Scenario 2\n",
      "Backlog 5.0 maintenance tasks of category Small Maintenance at wind farm Wind Farm B on day 6 in scenario Scenario 1\n",
      "Backlog 13.0 maintenance tasks of category Small Maintenance at wind farm Wind Farm B on day 6 in scenario Scenario 2\n",
      "Backlog 5.0 maintenance tasks of category Small Maintenance at wind farm Wind Farm B on day 7 in scenario Scenario 1\n",
      "Backlog 15.0 maintenance tasks of category Small Maintenance at wind farm Wind Farm B on day 7 in scenario Scenario 2\n",
      "Backlog 5.0 maintenance tasks of category Small Maintenance at wind farm Wind Farm B on day 8 in scenario Scenario 1\n",
      "Backlog 15.0 maintenance tasks of category Small Maintenance at wind farm Wind Farm B on day 8 in scenario Scenario 2\n",
      "Backlog 7.0 maintenance tasks of category Small Maintenance at wind farm Wind Farm B on day 9 in scenario Scenario 1\n",
      "Backlog 17.0 maintenance tasks of category Small Maintenance at wind farm Wind Farm B on day 9 in scenario Scenario 2\n",
      "Backlog 1.0 maintenance tasks of category Large Maintenance at wind farm Wind Farm A on day 1 in scenario Scenario 1\n",
      "Backlog 1.0 maintenance tasks of category Large Maintenance at wind farm Wind Farm A on day 1 in scenario Scenario 2\n",
      "Backlog 1.0 maintenance tasks of category Large Maintenance at wind farm Wind Farm A on day 2 in scenario Scenario 1\n",
      "Backlog 2.0 maintenance tasks of category Large Maintenance at wind farm Wind Farm A on day 2 in scenario Scenario 2\n",
      "Backlog 1.0 maintenance tasks of category Large Maintenance at wind farm Wind Farm A on day 3 in scenario Scenario 1\n",
      "Backlog 3.0 maintenance tasks of category Large Maintenance at wind farm Wind Farm A on day 3 in scenario Scenario 2\n",
      "Backlog 1.0 maintenance tasks of category Large Maintenance at wind farm Wind Farm A on day 4 in scenario Scenario 1\n",
      "Backlog 3.0 maintenance tasks of category Large Maintenance at wind farm Wind Farm A on day 4 in scenario Scenario 2\n",
      "Backlog 2.0 maintenance tasks of category Large Maintenance at wind farm Wind Farm A on day 5 in scenario Scenario 1\n",
      "Backlog 4.0 maintenance tasks of category Large Maintenance at wind farm Wind Farm A on day 5 in scenario Scenario 2\n",
      "Backlog 3.0 maintenance tasks of category Large Maintenance at wind farm Wind Farm A on day 6 in scenario Scenario 1\n",
      "Backlog 5.0 maintenance tasks of category Large Maintenance at wind farm Wind Farm A on day 6 in scenario Scenario 2\n",
      "Backlog 3.0 maintenance tasks of category Large Maintenance at wind farm Wind Farm A on day 7 in scenario Scenario 1\n",
      "Backlog 5.0 maintenance tasks of category Large Maintenance at wind farm Wind Farm A on day 7 in scenario Scenario 2\n",
      "Backlog 3.0 maintenance tasks of category Large Maintenance at wind farm Wind Farm A on day 8 in scenario Scenario 1\n",
      "Backlog 6.0 maintenance tasks of category Large Maintenance at wind farm Wind Farm A on day 8 in scenario Scenario 2\n",
      "Backlog 3.0 maintenance tasks of category Large Maintenance at wind farm Wind Farm A on day 9 in scenario Scenario 1\n",
      "Backlog 7.0 maintenance tasks of category Large Maintenance at wind farm Wind Farm A on day 9 in scenario Scenario 2\n",
      "Backlog 1.0 maintenance tasks of category Large Maintenance at wind farm Wind Farm B on day 2 in scenario Scenario 1\n",
      "Backlog 2.0 maintenance tasks of category Large Maintenance at wind farm Wind Farm B on day 3 in scenario Scenario 1\n",
      "Backlog 3.0 maintenance tasks of category Large Maintenance at wind farm Wind Farm B on day 4 in scenario Scenario 1\n",
      "Backlog 4.0 maintenance tasks of category Large Maintenance at wind farm Wind Farm B on day 5 in scenario Scenario 1\n",
      "Backlog 4.0 maintenance tasks of category Large Maintenance at wind farm Wind Farm B on day 6 in scenario Scenario 1\n",
      "Backlog 5.0 maintenance tasks of category Large Maintenance at wind farm Wind Farm B on day 7 in scenario Scenario 1\n",
      "Backlog 6.0 maintenance tasks of category Large Maintenance at wind farm Wind Farm B on day 8 in scenario Scenario 1\n",
      "Backlog 1.0 maintenance tasks of category Large Maintenance at wind farm Wind Farm B on day 8 in scenario Scenario 2\n",
      "Backlog 7.0 maintenance tasks of category Large Maintenance at wind farm Wind Farm B on day 9 in scenario Scenario 1\n",
      "Backlog 2.0 maintenance tasks of category Large Maintenance at wind farm Wind Farm B on day 9 in scenario Scenario 2\n"
     ]
    }
   ],
   "source": [
    "model.optimize()\n",
    "\n",
    "# Print the optimal values of the decision variables\n",
    "for v in V:\n",
    "    for t in T:\n",
    "        if gamma_ST[v, t].X > 0:\n",
    "            print(f\"Short-term charter {gamma_ST[v, t].X} vessels of type {V[v]} in month {T[t]}\")\n",
    "for v in V:\n",
    "    if gamma_LT[v].X > 0:\n",
    "        print(f\"Long-term charter {gamma_LT[v].X} vessels of type {V[v]}\")\n",
    "for v in V:\n",
    "    for w in W:\n",
    "        for d in D:\n",
    "            for s in S:\n",
    "                if x_vwd_s[v, w, d, s].X > 0:\n",
    "                    print(f\"Allocate {x_vwd_s[v, w, d, s].X} vessels of type {V[v]} to wind farm {W[w]} on day {d} in scenario {S[s]}\")\n",
    "for m in M:\n",
    "    for w in W:\n",
    "        for d in D:\n",
    "            for s in S:\n",
    "                if z_mwd_s[m, w, d, s].X > 0:\n",
    "                    print(f\"Perform {z_mwd_s[m, w, d, s].X} maintenance tasks of category {M[m]} at wind farm {W[w]} on day {d} in scenario {S[s]}\")\n",
    "for m in M:\n",
    "    for w in W:\n",
    "        for d in D:\n",
    "            for s in S:\n",
    "                if b_mwd_s[m, w, d, s].X > 0:\n",
    "                    print(f\"Backlog {b_mwd_s[m, w, d, s].X} maintenance tasks of category {M[m]} at wind farm {W[w]} on day {d} in scenario {S[s]}\")\n"
   ]
  }
 ],
 "metadata": {
  "kernelspec": {
   "display_name": "Python 3",
   "language": "python",
   "name": "python3"
  },
  "language_info": {
   "codemirror_mode": {
    "name": "ipython",
    "version": 3
   },
   "file_extension": ".py",
   "mimetype": "text/x-python",
   "name": "python",
   "nbconvert_exporter": "python",
   "pygments_lexer": "ipython3",
   "version": "3.11.9"
  }
 },
 "nbformat": 4,
 "nbformat_minor": 5
}
